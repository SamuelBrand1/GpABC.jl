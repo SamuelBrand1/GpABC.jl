{
 "cells": [
  {
   "cell_type": "markdown",
   "metadata": {},
   "source": [
    "# Deterministic model of three genes interaction network\n",
    "\n",
    "In this example we are going to perform parameter inference for a deterministic model of three gene interaction, described in (Karlebach & Shamir, 2008). The model is illustrated by the figure below\n",
    "\n",
    "<img src=\"threegeneinteractions.png\" width=\"500\" height=\"1000\">\n",
    "\n",
    "Apart from participating in the interactions shown on this diagram, all genes are also activated by the environment and degrade into environment (not shown). Gene 1 is repressed by Gene 3, Gene 2 is activated by Gene 1, and Gene 3 is activated by both Gene 1 and Gene 2.\n",
    "\n",
    "Using Michaelis-Menten kinetics, we can produce the following system of diferential equations for this system:\n",
    "\n",
    "$$\n",
    "\\begin{align*}\n",
    "\\frac{dx_1}{dt} &= k_{1,a}\\frac{1}{1+k_{3,1} x_3} - k_{1,d} x_1\\\\\n",
    "\\frac{dx_2}{dt} &= k_{2,a}\\frac{k_{1,2} x_1}{1+k_{1,2} x_1} - k_{2,d} x_2\\\\\n",
    "\\frac{dx_3}{dt} &= k_{3,a}\\frac{k_{1,3} x_1 k_{2,3} x_3}{(1+k_{1,3} x_1)(1+k_{2,3} x_2)} - k_{3,d} x_3\n",
    "\\end{align*}\n",
    "$$\n",
    "\n",
    "Here, for $i, j \\in \\{1, 2, 3\\}$, $x_i$ denote concentrations of respective genes, as they change with time; $k_{i, a}$ are the rates with which Gene $i$ is activated by the environment; $k_{i, d}$ are the rates with which Gene $i$ degrades into the environment, and $k_{i, j}$ is the rate with which Gene $i$ activates or represses Gene $j$.\n",
    "\n",
    "### References\n",
    "- Toni, T., Welch, D., Strelkowa, N., Ipsen, A., & Stumpf, M. P. H. (2009). Approximate Bayesian computation scheme for parameter inference and model selection in dynamical systems. *Interface*, (July 2008), 187–202. https://doi.org/10.1098/rsif.2008.0172\n",
    "- Karlebach, G., & Shamir, R. (2008). Modelling and analysis of gene regulatory networks. *Nature Reviews Molecular Cell Biology*, 9(10), 770–780. https://doi.org/10.1038/nrm2503\n"
   ]
  },
  {
   "cell_type": "markdown",
   "metadata": {},
   "source": [
    "# To run this notebook locally:\n",
    "* Make sure that [Jupyter](https://jupyter.org/) is installed, along with [Julia](https://www.julialang.org/) and its [Jupyter Kernel](https://github.com/JuliaLang/IJulia.jl).\n",
    "* Clone or download [GpABC.jl](https://github.com/tanhevg/GpABC.jl) to your machine.\n",
    "* Run `jupyter` from the `examples` directory of the local copy of `GpABC.jl`:\n",
    "```bash\n",
    "$ cd GpABC.jl/examples\n",
    "$ jupyter notebook abc-examples.ipynb\n",
    "```\n",
    "* The first line of the cell below activates the local project environment and downloads all the dependencies."
   ]
  },
  {
   "cell_type": "code",
   "execution_count": 1,
   "metadata": {},
   "outputs": [
    {
     "name": "stdout",
     "output_type": "stream",
     "text": [
      "\u001b[32m\u001b[1m Resolving\u001b[22m\u001b[39m package versions...\n"
     ]
    },
    {
     "name": "stderr",
     "output_type": "stream",
     "text": [
      "┌ Info: Recompiling stale cache file /home/tah17/.julia/compiled/v1.0/PyPlot/oatAj.ji for PyPlot [d330b81b-6aea-500a-939a-2ce795aea3ee]\n",
      "└ @ Base loading.jl:1190\n"
     ]
    },
    {
     "data": {
      "text/plain": [
       "Plots.PyPlotBackend()"
      ]
     },
     "execution_count": 1,
     "metadata": {},
     "output_type": "execute_result"
    }
   ],
   "source": [
    "import Pkg; Pkg.activate(\".\"); Pkg.resolve()\n",
    "using GpABC, OrdinaryDiffEq, Distances, Distributions, Plots\n",
    "pyplot()"
   ]
  },
  {
   "cell_type": "code",
   "execution_count": 6,
   "metadata": {},
   "outputs": [
    {
     "name": "stdout",
     "output_type": "stream",
     "text": [
      "\u001b[32m\u001b[1m  Updating\u001b[22m\u001b[39m registry at `~/.julia/registries/General`\n",
      "\u001b[32m\u001b[1m  Updating\u001b[22m\u001b[39m git-repo `https://github.com/JuliaRegistries/General.git`\n",
      "\u001b[?25l\u001b[2K\u001b[?25h\u001b[32m\u001b[1m Resolving\u001b[22m\u001b[39m package versions...\n"
     ]
    }
   ],
   "source": [
    "import Pkg; Pkg.update()"
   ]
  },
  {
   "cell_type": "markdown",
   "metadata": {},
   "source": [
    "# Rejection ABC using `GpABC` - estimating parameters\n",
    "\n",
    "Let's start by implementing the above system of ODEs (model of three genes interaction network) in Julia, and setting up some scaffolding for the ABC computations. The ABC computations will need the user to specify some priors for the parameters they wish to estimate.\n",
    "\n",
    "The user also needs to specify a function that simulates the model (named `simulator_function` in the cell below) that needs to take the parameters the user wishes to estimate, the variable/non-fixed parameters, and return the ODE solution."
   ]
  },
  {
   "cell_type": "code",
   "execution_count": 2,
   "metadata": {},
   "outputs": [
    {
     "data": {
      "text/plain": [
       "simulator_function (generic function with 1 method)"
      ]
     },
     "execution_count": 2,
     "metadata": {},
     "output_type": "execute_result"
    }
   ],
   "source": [
    "#\n",
    "# ABC settings\n",
    "#\n",
    "true_params =  [2.0, 1.0, 15.0, 1.0, 1.0, 1.0, 100.0, 1.0, 1.0, 1.0] #nomial parameter values \n",
    "priors = [Uniform(0.2, 5.), Uniform(0.2, 5.), Uniform(10., 20.),\n",
    "          Uniform(0.2, 2.), Uniform(0.2, 2.), Uniform(0.2, 2.),\n",
    "          Uniform(75., 125.), Uniform(0.2, 2.), Uniform(0.2, 2.), \n",
    "          Uniform(0.2, 2.)]\n",
    "param_indices = [1, 3, 9]  #indices of the parameters we want to estimate\n",
    "priors = priors[param_indices]\n",
    "\n",
    "#\n",
    "# ODE solver settings\n",
    "#\n",
    "Tspan = (0.0, 10.0)\n",
    "x0 = [3.0, 2.0, 1.0]\n",
    "solver = RK4()\n",
    "saveat = 0.1\n",
    "\n",
    "#\n",
    "# Returns the solution to the toy model as solved by OrdinaryDiffEq\n",
    "#\n",
    "GeneReg = function(params::AbstractArray{Float64,1},\n",
    "    Tspan::Tuple{Float64,Float64}, x0::AbstractArray{Float64,1},\n",
    "    solver::OrdinaryDiffEq.OrdinaryDiffEqAlgorithm, saveat::Float64)\n",
    "\n",
    "  if size(params,1) != 10\n",
    "    throw(ArgumentError(\"GeneReg needs 10 parameters, $(size(params,1)) were provided\"))\n",
    "  end\n",
    "\n",
    "  function ODE_3GeneReg(dx, x, par, t)\n",
    "    dx[1] = par[1]/(1+par[7]*x[3]) - par[4]*x[1]\n",
    "    dx[2] = par[2]*par[8]*x[1]/(1+par[8]*x[1]) - par[5]*x[2]\n",
    "    dx[3] = par[3]*par[9]*x[1]*par[10]*x[2]./(1+par[9]*x[1])./(1+par[10]*x[2]) - par[6]*x[3]\n",
    "  end\n",
    "\n",
    "  prob = ODEProblem(ODE_3GeneReg, x0 ,Tspan, params)\n",
    "  Obs = solve(prob, solver, saveat=saveat)\n",
    "\n",
    "  return Array{Float64, 2}(Obs)\n",
    "end\n",
    "\n",
    "#\n",
    "# A function that simulates the model \n",
    "#\n",
    "function simulator_function(var_params)\n",
    "    params = copy(true_params)\n",
    "    params[param_indices] .= var_params\n",
    "    GeneReg(params, Tspan, x0, solver, saveat)\n",
    "end"
   ]
  },
  {
   "cell_type": "markdown",
   "metadata": {},
   "source": [
    "## Plot reference data\n",
    "\n",
    "The final scaffolding for the ABC computation that is left to be set up is establishing the reference data, $\\mathcal{D}$, which is the gene levels over time. In this example the reference data, $\\mathcal{D}$, will be \"fake\" data for the purpose of setting up an example used for parameter estimation where the true parameter values are known. This is computed by solving the model (`GeneReg`) with the true parameters defined in the above cell.\n",
    "\n",
    "During parameter estimation using real-life or experimental data, the reference data, $\\mathcal{D}$, would be need to be changed from simulated data to the experimental data. This is done through redefining your reference data."
   ]
  },
  {
   "cell_type": "code",
   "execution_count": 3,
   "metadata": {
    "scrolled": true
   },
   "outputs": [
    {
     "data": {
      "image/png": "[encoded data removed]"
     },
     "execution_count": 3,
     "metadata": {},
     "output_type": "execute_result"
    }
   ],
   "source": [
    "#\n",
    "# Get reference data and plot it\n",
    "#\n",
    "reference_data = simulator_function(true_params[param_indices])\n",
    "plot(reference_data', xlabel=\"t\", ylabel=\"C(t)\", linewidth=2, labels=[\"u1(t)\", \"u2(t)\", \"u3(t)\"])"
   ]
  },
  {
   "cell_type": "markdown",
   "metadata": {},
   "source": [
    "## Simulation-based rejection ABC\n",
    "\n",
    "The intuition beind [rejection ABC](https://tanhevg.github.io/GpABC.jl/latest/overview-abc/#Simulation-based-Rejection-ABC-1) is the following: simulate the ODE for different parameter values sampled from your priors and only accept the parameter combinations that produce ODE simulations *close enough* to your reference data, $\\mathcal{D}$. The accepted combinations of parameters serve as an approximation to your posterior of your parameters.\n",
    "\n",
    "`GpABC.jl` provides two algorithms for rejection ABC: simulation-based and emulation-based. \n",
    "\n",
    "Here we begin by demonstrating simulated rejection ABC, by calling [`SimulatedABCRejection`](https://tanhevg.github.io/GpABC.jl/latest/ref-abc/#GpABC.SimulatedABCSMC) function. The simulator function will be called on every step of the  ABC procedure. \n",
    "\n",
    "The plot recipe makes it easy to visualise the results. As one can see, after just one iteration of rejection ABC the posterior population does not highlight the true parameters very well. Still, the simualtion ABC results will always serve as the \"gold-standard\" for the emulation ABC results."
   ]
  },
  {
   "cell_type": "code",
   "execution_count": 7,
   "metadata": {},
   "outputs": [
    {
     "ename": "ErrorException",
     "evalue": "type Dict has no field top",
     "output_type": "error",
     "traceback": [
      "type Dict has no field top",
      "",
      "Stacktrace:",
      " [1] getproperty(::Any, ::Symbol) at ./sysimg.jl:18",
      " [2] _before_layout_calcs(::Plots.Plot{Plots.PyPlotBackend}) at /home/tah17/.julia/packages/Plots/oiirH/src/backends/pyplot.jl:1139",
      " [3] prepare_output(::Plots.Plot{Plots.PyPlotBackend}) at /home/tah17/.julia/packages/Plots/oiirH/src/plot.jl:254",
      " [4] show(::Base64.Base64EncodePipe, ::MIME{Symbol(\"image/png\")}, ::Plots.Plot{Plots.PyPlotBackend}) at /home/tah17/.julia/packages/Plots/oiirH/src/output.jl:197",
      " [5] #base64encode#3(::Nothing, ::Function, ::Function, ::MIME{Symbol(\"image/png\")}, ::Vararg{Any,N} where N) at /buildworker/worker/package_linux64/build/usr/share/julia/stdlib/v1.0/Base64/src/encode.jl:206",
      " [6] base64encode(::Function, ::MIME{Symbol(\"image/png\")}, ::Vararg{Any,N} where N) at /buildworker/worker/package_linux64/build/usr/share/julia/stdlib/v1.0/Base64/src/encode.jl:203",
      " [7] _ijulia_display_dict(::Plots.Plot{Plots.PyPlotBackend}) at /home/tah17/.julia/packages/Plots/oiirH/src/ijulia.jl:47",
      " [8] display_dict(::Plots.Plot{Plots.PyPlotBackend}) at /home/tah17/.julia/packages/Plots/oiirH/src/init.jl:42",
      " [9] #invokelatest#1 at ./essentials.jl:697 [inlined]",
      " [10] invokelatest at ./essentials.jl:696 [inlined]",
      " [11] execute_request(::ZMQ.Socket, ::IJulia.Msg) at /home/tah17/.julia/packages/IJulia/gI2uA/src/execute_request.jl:112",
      " [12] #invokelatest#1 at ./essentials.jl:697 [inlined]",
      " [13] invokelatest at ./essentials.jl:696 [inlined]",
      " [14] eventloop(::ZMQ.Socket) at /home/tah17/.julia/packages/IJulia/gI2uA/src/eventloop.jl:8",
      " [15] (::getfield(IJulia, Symbol(\"##15#18\")))() at ./task.jl:259"
     ]
    }
   ],
   "source": [
    "#\n",
    "# Simulation\n",
    "#\n",
    "n_particles = 2000\n",
    "threshold = 1.0\n",
    "sim_result = SimulatedABCRejection(reference_data, simulator_function, priors, threshold, n_particles;\n",
    "    max_iter=convert(Int, 2e6),\n",
    "    write_progress=false)\n",
    "plot(sim_result)"
   ]
  },
  {
   "cell_type": "markdown",
   "metadata": {},
   "source": [
    "One of the more important choices to be made in the ABC algorithim is the maximum number of iterations. This is the `max_iter` argument to `SimulatedABCRejection` and controls the maximum number of parameters for which the model will be simulated.\n",
    "\n",
    "If this number is too low then the posteriors will contain too few particles. In fact, the algorithm may terminate before `n_particles` are accepted : `GpABC` will print a warning in this case.\n",
    "\n",
    "A very high value for `max_iter` is only a problem if a very small number of particles are being accepted (which can happen if `threshold` is too small, for example). In this scenario the ABC algorithm will run for an extremely long time (the exact time depends on the computational cost of the simulator).\n",
    "\n",
    "The case when `max_iter` is too small is shown below (3,000 vs 2,000,000 in the plot above). These posteriors suggest there is low probability in regions that would be filled with packages where `max_iter` a larger value."
   ]
  },
  {
   "cell_type": "code",
   "execution_count": 5,
   "metadata": {},
   "outputs": [
    {
     "name": "stderr",
     "output_type": "stream",
     "text": [
      "┌ Warning: Simulation reached maximum iterations 3000 before finding 2000 particles - will return 221\n",
      "└ @ GpABC /home/tah17/.julia/packages/GpABC/l9k0G/src/abc/rejection.jl:92\n"
     ]
    },
    {
     "ename": "ErrorException",
     "evalue": "type Dict has no field top",
     "output_type": "error",
     "traceback": [
      "type Dict has no field top",
      "",
      "Stacktrace:",
      " [1] getproperty(::Any, ::Symbol) at ./sysimg.jl:18",
      " [2] _before_layout_calcs(::Plots.Plot{Plots.PyPlotBackend}) at /home/tah17/.julia/packages/Plots/oiirH/src/backends/pyplot.jl:1139",
      " [3] prepare_output(::Plots.Plot{Plots.PyPlotBackend}) at /home/tah17/.julia/packages/Plots/oiirH/src/plot.jl:254",
      " [4] show(::Base64.Base64EncodePipe, ::MIME{Symbol(\"image/png\")}, ::Plots.Plot{Plots.PyPlotBackend}) at /home/tah17/.julia/packages/Plots/oiirH/src/output.jl:197",
      " [5] #base64encode#3(::Nothing, ::Function, ::Function, ::MIME{Symbol(\"image/png\")}, ::Vararg{Any,N} where N) at /buildworker/worker/package_linux64/build/usr/share/julia/stdlib/v1.0/Base64/src/encode.jl:206",
      " [6] base64encode(::Function, ::MIME{Symbol(\"image/png\")}, ::Vararg{Any,N} where N) at /buildworker/worker/package_linux64/build/usr/share/julia/stdlib/v1.0/Base64/src/encode.jl:203",
      " [7] _ijulia_display_dict(::Plots.Plot{Plots.PyPlotBackend}) at /home/tah17/.julia/packages/Plots/oiirH/src/ijulia.jl:47",
      " [8] display_dict(::Plots.Plot{Plots.PyPlotBackend}) at /home/tah17/.julia/packages/Plots/oiirH/src/init.jl:42",
      " [9] #invokelatest#1 at ./essentials.jl:697 [inlined]",
      " [10] invokelatest at ./essentials.jl:696 [inlined]",
      " [11] execute_request(::ZMQ.Socket, ::IJulia.Msg) at /home/tah17/.julia/packages/IJulia/gI2uA/src/execute_request.jl:112",
      " [12] #invokelatest#1 at ./essentials.jl:697 [inlined]",
      " [13] invokelatest at ./essentials.jl:696 [inlined]",
      " [14] eventloop(::ZMQ.Socket) at /home/tah17/.julia/packages/IJulia/gI2uA/src/eventloop.jl:8",
      " [15] (::getfield(IJulia, Symbol(\"##15#18\")))() at ./task.jl:259"
     ]
    }
   ],
   "source": [
    "#\n",
    "# Simulation\n",
    "#\n",
    "n_particles = 2000\n",
    "threshold = 1.0\n",
    "sim_result = SimulatedABCRejection(reference_data, simulator_function, priors, threshold, n_particles;\n",
    "                                   max_iter=convert(Int, 3e3),\n",
    "                                   write_progress=false)\n",
    "plot(sim_result)"
   ]
  },
  {
   "cell_type": "markdown",
   "metadata": {},
   "source": [
    "## Emulation-based rejection ABC\n",
    "\n",
    "This algorithm is similar to simulation-based procedure described above. Here, instead of running the simulation at each step of the ABC, the simulated results are used to train the emulator that outputs the distance from the given point in the parameter space to reference data. These emulated distances are then used in the ABC algorithm.\n",
    "\n",
    "Arguments of [`EmulatedABCRejection`](https://tanhevg.github.io/GpABC.jl/latest/ref-abc/#GpABC.EmulatedABCRejection) function are very similar to those of `SimulatedABCRejection`, with the addition of `n_design_points` that controls the number of particles that will be used for simulation and training the emulator.\n",
    "\n",
    "Note that `EmulatedABCRejection` also has an argument named `max_iter`, but now this refers to the maximum number of emulations. Since the emulator predicts distances in batches with size `batch_size` a single run of an emulated ABC algorithm tests `max_iter`*`batch_size` particles."
   ]
  },
  {
   "cell_type": "code",
   "execution_count": 6,
   "metadata": {},
   "outputs": [
    {
     "ename": "ErrorException",
     "evalue": "type Dict has no field top",
     "output_type": "error",
     "traceback": [
      "type Dict has no field top",
      "",
      "Stacktrace:",
      " [1] getproperty(::Any, ::Symbol) at ./sysimg.jl:18",
      " [2] _before_layout_calcs(::Plots.Plot{Plots.PyPlotBackend}) at /home/tah17/.julia/packages/Plots/oiirH/src/backends/pyplot.jl:1139",
      " [3] prepare_output(::Plots.Plot{Plots.PyPlotBackend}) at /home/tah17/.julia/packages/Plots/oiirH/src/plot.jl:254",
      " [4] show(::Base64.Base64EncodePipe, ::MIME{Symbol(\"image/png\")}, ::Plots.Plot{Plots.PyPlotBackend}) at /home/tah17/.julia/packages/Plots/oiirH/src/output.jl:197",
      " [5] #base64encode#3(::Nothing, ::Function, ::Function, ::MIME{Symbol(\"image/png\")}, ::Vararg{Any,N} where N) at /buildworker/worker/package_linux64/build/usr/share/julia/stdlib/v1.0/Base64/src/encode.jl:206",
      " [6] base64encode(::Function, ::MIME{Symbol(\"image/png\")}, ::Vararg{Any,N} where N) at /buildworker/worker/package_linux64/build/usr/share/julia/stdlib/v1.0/Base64/src/encode.jl:203",
      " [7] _ijulia_display_dict(::Plots.Plot{Plots.PyPlotBackend}) at /home/tah17/.julia/packages/Plots/oiirH/src/ijulia.jl:47",
      " [8] display_dict(::Plots.Plot{Plots.PyPlotBackend}) at /home/tah17/.julia/packages/Plots/oiirH/src/init.jl:42",
      " [9] #invokelatest#1 at ./essentials.jl:697 [inlined]",
      " [10] invokelatest at ./essentials.jl:696 [inlined]",
      " [11] execute_request(::ZMQ.Socket, ::IJulia.Msg) at /home/tah17/.julia/packages/IJulia/gI2uA/src/execute_request.jl:112",
      " [12] #invokelatest#1 at ./essentials.jl:697 [inlined]",
      " [13] invokelatest at ./essentials.jl:696 [inlined]",
      " [14] eventloop(::ZMQ.Socket) at /home/tah17/.julia/packages/IJulia/gI2uA/src/eventloop.jl:8",
      " [15] (::getfield(IJulia, Symbol(\"##15#18\")))() at ./task.jl:259"
     ]
    }
   ],
   "source": [
    "n_design_points = 500\n",
    "emu_result = EmulatedABCRejection(reference_data, simulator_function, priors, threshold, n_particles, n_design_points;\n",
    "                                  max_iter=convert(Int, 1e3),\n",
    "                                  write_progress=false)\n",
    "plot(emu_result)"
   ]
  },
  {
   "cell_type": "markdown",
   "metadata": {},
   "source": [
    "# Comparing the resulting posteriors from simulation and emulation\n",
    "\n",
    "When looking at the approximate posteriors that are from simulation and emulation we are looking to check that they are similar, since emulation's gold standard is to match simuation.\n",
    "\n",
    "As one can see the resulting posteriors from simulation and emulation are similar and both center on the correct parameter values."
   ]
  },
  {
   "cell_type": "code",
   "execution_count": 7,
   "metadata": {},
   "outputs": [
    {
     "data": {
      "image/png": "[encoded data removed]"
     },
     "execution_count": 7,
     "metadata": {},
     "output_type": "execute_result"
    }
   ],
   "source": [
    "plts = Array{Plots.Plot}(undef, length(priors))\n",
    "for idx in 1:length(plts)\n",
    "    min_pop_len = min(size(emu_result.population, 1), size(sim_result.population, 1))\n",
    "    plts[idx] = histogram([emu_result.population[1:min_pop_len,idx] sim_result.population[1:min_pop_len,idx]], \n",
    "        label=[\"emulation\", \"simulation\"], fillalpha=0.5, xlabel=\"Parameter $idx\", ylabel=\"Density\")\n",
    "end\n",
    "plot(plts..., size=(900,300))"
   ]
  },
  {
   "cell_type": "markdown",
   "metadata": {},
   "source": [
    "## Particle Acceptance Criteria\n",
    " \n",
    "`GpABC` offers three criteria according to which a particle can be accepted in emulation-based ABC. Given a trained Gaussian process (GP) emulator, these criteria are\"\n",
    "\n",
    "* `MeanEmulatedParticleSelection`: accept the particle if the mean of the GP evaluated at the particle is less than the threshold.\n",
    "* `MeanVarEmulatedParticleSelection`: accept the particle if the mean of the GP evaluated at the particle is less than the threshold __and__ the corresponding posterior variance is less than the threshold multiplied by a scaling factor. The scaling factor must be specified by the user - the default value is 1.0.\n",
    "* `PosteriorSampledEmulatedParticleSelection`: draw a sample from the GP posterior evaluated at the particle. Accept the particle if this sample is less than the threshold. If desired, the GP posterior covariance can be approximated by its diagonal elements - set the `use_diagonal_covariance` field of the `PosteriorSampledEmulatedParticleSelection` struct to `true` to use the approximation. The default is to use the full covariance matrix.\n",
    "\n",
    "Select the criterion using the `emulated_particle_selection` argument to `EmulatedABCRejection` (or `EmulatedABCSMC`). The default is `MeanEmulatedParticleSelection`.\n",
    "\n",
    "Posteriors from emulated ABC Rejection using the three different acceptance criteria are shown below."
   ]
  },
  {
   "cell_type": "code",
   "execution_count": 8,
   "metadata": {},
   "outputs": [
    {
     "ename": "ErrorException",
     "evalue": "type Dict has no field top",
     "output_type": "error",
     "traceback": [
      "type Dict has no field top",
      "",
      "Stacktrace:",
      " [1] getproperty(::Any, ::Symbol) at ./sysimg.jl:18",
      " [2] _before_layout_calcs(::Plots.Plot{Plots.PyPlotBackend}) at /home/tah17/.julia/packages/Plots/oiirH/src/backends/pyplot.jl:1139",
      " [3] prepare_output(::Plots.Plot{Plots.PyPlotBackend}) at /home/tah17/.julia/packages/Plots/oiirH/src/plot.jl:254",
      " [4] show(::Base64.Base64EncodePipe, ::MIME{Symbol(\"image/png\")}, ::Plots.Plot{Plots.PyPlotBackend}) at /home/tah17/.julia/packages/Plots/oiirH/src/output.jl:197",
      " [5] #base64encode#3(::Nothing, ::Function, ::Function, ::MIME{Symbol(\"image/png\")}, ::Vararg{Any,N} where N) at /buildworker/worker/package_linux64/build/usr/share/julia/stdlib/v1.0/Base64/src/encode.jl:206",
      " [6] base64encode(::Function, ::MIME{Symbol(\"image/png\")}, ::Vararg{Any,N} where N) at /buildworker/worker/package_linux64/build/usr/share/julia/stdlib/v1.0/Base64/src/encode.jl:203",
      " [7] _ijulia_display_dict(::Plots.Plot{Plots.PyPlotBackend}) at /home/tah17/.julia/packages/Plots/oiirH/src/ijulia.jl:47",
      " [8] display_dict(::Plots.Plot{Plots.PyPlotBackend}) at /home/tah17/.julia/packages/Plots/oiirH/src/init.jl:42",
      " [9] #invokelatest#1 at ./essentials.jl:697 [inlined]",
      " [10] invokelatest at ./essentials.jl:696 [inlined]",
      " [11] execute_request(::ZMQ.Socket, ::IJulia.Msg) at /home/tah17/.julia/packages/IJulia/gI2uA/src/execute_request.jl:112",
      " [12] #invokelatest#1 at ./essentials.jl:697 [inlined]",
      " [13] invokelatest at ./essentials.jl:696 [inlined]",
      " [14] eventloop(::ZMQ.Socket) at /home/tah17/.julia/packages/IJulia/gI2uA/src/eventloop.jl:8",
      " [15] (::getfield(IJulia, Symbol(\"##15#18\")))() at ./task.jl:259"
     ]
    }
   ],
   "source": [
    "emulation_results = [\n",
    "    EmulatedABCRejection(reference_data, simulator_function, priors, threshold, n_particles, n_design_points;\n",
    "            max_iter=convert(Int, 1e3),\n",
    "            write_progress=false,\n",
    "            emulated_particle_selection=particle_selection)\n",
    "    for particle_selection in [MeanEmulatedParticleSelection(), MeanVarEmulatedParticleSelection(), PosteriorSampledEmulatedParticleSelection()]\n",
    "];\n",
    "\n",
    "plot([plot(result) for result in emulation_results]..., size=(1500,500), layout=@layout grid(1,3))"
   ]
  },
  {
   "cell_type": "markdown",
   "metadata": {},
   "source": [
    "Here, the left column of plots uses `MeanEmulatedParticleSelection`, the middle uses `MeanVarEmulatedParticleSelection` (with the defaut scaling factor of 1) and the right-hand plots use `PosteriorSampledEmulatedParticleSelection` (with a full GP posterior covariance). All three criteria lead to similar parameter posteriors in this case."
   ]
  },
  {
   "cell_type": "markdown",
   "metadata": {},
   "source": [
    "# ABC-SMC\n",
    "\n",
    "[ABC-SMC](https://tanhevg.github.io/GpABC.jl/latest/overview-abc/#Simulation-based-ABC-SMC-1) is essentially a sequential set of ABC rejection algorithms, where the population at the previous iteration is used to propose new particles for the current set. The algorithm hones in on the true posterior by incrementally decreasing the threshold at each iteration. The result is that the final population is produced using a much smaller threshold than is possible in ABC Rejection, since the particles proposed according to a previous ABC iteration are more likely to match the data well than those sampled from the priors."
   ]
  },
  {
   "cell_type": "code",
   "execution_count": 9,
   "metadata": {},
   "outputs": [],
   "source": [
    "#\n",
    "# ABC-SMC settings\n",
    "#\n",
    "threshold_schedule = [3.0, 2.0, 1.0, 0.5, 0.2];"
   ]
  },
  {
   "cell_type": "markdown",
   "metadata": {},
   "source": [
    "## Simulation-based ABC-SMC\n",
    "\n",
    "Similarly to rejection ABC, two algorithms are provided for ABC-SMC: [simulation](https://tanhevg.github.io/GpABC.jl/latest/overview-abc/#Simulation-based-ABC-SMC-1) and [emulation](https://tanhevg.github.io/GpABC.jl/latest/overview-abc/#Emulation-based-ABC-SMC-1) based. Parameters for [`SimulatedABCSMC`](https://tanhevg.github.io/GpABC.jl/latest/ref-abc/#GpABC.SimulatedABCSMC) function are identical to those of `SimulatedABCRejection`. Lower thresholds allow the SMC algorithm to produce much more accurate results than rejection ABC - note the ranges on the X-axes of the histograms below. This, however, is achieved at the expense of a longer run time."
   ]
  },
  {
   "cell_type": "code",
   "execution_count": 10,
   "metadata": {},
   "outputs": [
    {
     "name": "stderr",
     "output_type": "stream",
     "text": [
      "┌ Warning: Simulation reached maximum 20000 iterations before finding 2000 particles - will return 843\n",
      "└ @ GpABC /home/tah17/.julia/packages/GpABC/l9k0G/src/abc/smc.jl:248\n",
      "┌ Warning: Simulation reached maximum 20000 iterations before finding 2000 particles - will return 264\n",
      "└ @ GpABC /home/tah17/.julia/packages/GpABC/l9k0G/src/abc/smc.jl:248\n"
     ]
    },
    {
     "ename": "ErrorException",
     "evalue": "type Dict has no field top",
     "output_type": "error",
     "traceback": [
      "type Dict has no field top",
      "",
      "Stacktrace:",
      " [1] getproperty(::Any, ::Symbol) at ./sysimg.jl:18",
      " [2] _before_layout_calcs(::Plots.Plot{Plots.PyPlotBackend}) at /home/tah17/.julia/packages/Plots/oiirH/src/backends/pyplot.jl:1139",
      " [3] prepare_output(::Plots.Plot{Plots.PyPlotBackend}) at /home/tah17/.julia/packages/Plots/oiirH/src/plot.jl:254",
      " [4] show(::Base64.Base64EncodePipe, ::MIME{Symbol(\"image/png\")}, ::Plots.Plot{Plots.PyPlotBackend}) at /home/tah17/.julia/packages/Plots/oiirH/src/output.jl:197",
      " [5] #base64encode#3(::Nothing, ::Function, ::Function, ::MIME{Symbol(\"image/png\")}, ::Vararg{Any,N} where N) at /buildworker/worker/package_linux64/build/usr/share/julia/stdlib/v1.0/Base64/src/encode.jl:206",
      " [6] base64encode(::Function, ::MIME{Symbol(\"image/png\")}, ::Vararg{Any,N} where N) at /buildworker/worker/package_linux64/build/usr/share/julia/stdlib/v1.0/Base64/src/encode.jl:203",
      " [7] _ijulia_display_dict(::Plots.Plot{Plots.PyPlotBackend}) at /home/tah17/.julia/packages/Plots/oiirH/src/ijulia.jl:47",
      " [8] display_dict(::Plots.Plot{Plots.PyPlotBackend}) at /home/tah17/.julia/packages/Plots/oiirH/src/init.jl:42",
      " [9] #invokelatest#1 at ./essentials.jl:697 [inlined]",
      " [10] invokelatest at ./essentials.jl:696 [inlined]",
      " [11] execute_request(::ZMQ.Socket, ::IJulia.Msg) at /home/tah17/.julia/packages/IJulia/gI2uA/src/execute_request.jl:112",
      " [12] #invokelatest#1 at ./essentials.jl:697 [inlined]",
      " [13] invokelatest at ./essentials.jl:696 [inlined]",
      " [14] eventloop(::ZMQ.Socket) at /home/tah17/.julia/packages/IJulia/gI2uA/src/eventloop.jl:8",
      " [15] (::getfield(IJulia, Symbol(\"##15#18\")))() at ./task.jl:259"
     ]
    }
   ],
   "source": [
    "population_colors=[\"#FF2F4E\", \"#D0001F\", \"#A20018\", \"#990017\", \"#800013\"]\n",
    "sim_abcsmc_res = SimulatedABCSMC(reference_data,\n",
    "    simulator_function,\n",
    "    priors,\n",
    "    threshold_schedule,\n",
    "    n_particles; \n",
    "    write_progress=false)\n",
    "plot(sim_abcsmc_res, population_colors=population_colors)"
   ]
  },
  {
   "cell_type": "markdown",
   "metadata": {},
   "source": [
    "## Emulation-based ABC-SMC\n",
    "\n",
    "For [`EmulatedABCSMC`](https://tanhevg.github.io/GpABC.jl/latest/ref-abc/#GpABC.EmulatedABCSMC) we have the additional option to retrain the emulator between each population using particles sampled from the most recent population."
   ]
  },
  {
   "cell_type": "code",
   "execution_count": 11,
   "metadata": {},
   "outputs": [
    {
     "name": "stderr",
     "output_type": "stream",
     "text": [
      "┌ Info: GpABC Emulator retraining. Iteration 1: 177 design points with distance below 2.0\n",
      "└ @ GpABC /home/tah17/.julia/packages/GpABC/l9k0G/src/util/emulation_helpers.jl:115\n",
      "┌ Info: GpABC Emulator retraining. Iteration 1: 58 design points with distance below 1.0\n",
      "└ @ GpABC /home/tah17/.julia/packages/GpABC/l9k0G/src/util/emulation_helpers.jl:115\n",
      "┌ Info: GpABC Emulator retraining. Iteration 2: 57 design points with distance below 1.0\n",
      "└ @ GpABC /home/tah17/.julia/packages/GpABC/l9k0G/src/util/emulation_helpers.jl:115\n"
     ]
    },
    {
     "ename": "InterruptException",
     "evalue": "InterruptException:",
     "output_type": "error",
     "traceback": [
      "InterruptException:",
      "",
      "Stacktrace:",
      " [1] _broadcast_getindex_evalf at ./broadcast.jl:582 [inlined]",
      " [2] _broadcast_getindex at ./broadcast.jl:555 [inlined]",
      " [3] getindex at ./broadcast.jl:515 [inlined]",
      " [4] copyto_nonleaf!(::Array{Float64,2}, ::Base.Broadcast.Broadcasted{Base.Broadcast.DefaultArrayStyle{2},Tuple{Base.OneTo{Int64},Base.OneTo{Int64}},typeof(pdf),Tuple{Base.Broadcast.Extruded{Array{Distribution{Univariate,Continuous},2},Tuple{Bool,Bool},Tuple{Int64,Int64}},Base.Broadcast.Extruded{Array{Float64,2},Tuple{Bool,Bool},Tuple{Int64,Int64}}}}, ::CartesianIndices{2,Tuple{Base.OneTo{Int64},Base.OneTo{Int64}}}, ::CartesianIndex{2}, ::Int64) at ./broadcast.jl:931",
      " [5] copy at ./broadcast.jl:794 [inlined]",
      " [6] materialize(::Base.Broadcast.Broadcasted{Base.Broadcast.DefaultArrayStyle{2},Nothing,typeof(pdf),Tuple{Array{Distribution{Univariate,Continuous},2},Array{Float64,2}}}) at ./broadcast.jl:756",
      " [7] generate_parameters(::Int64, ::Array{Uniform{Float64},1}, ::StatsBase.Weights{Float64,Float64,Array{Float64,1}}, ::Array{Distribution{Univariate,Continuous},2}) at /home/tah17/.julia/packages/GpABC/l9k0G/src/abc/smc.jl:60",
      " [8] #iterateABCSMC!#27(::Bool, ::Int64, ::Function, ::GpABC.EmulatedABCSMCTracker{Uniform{Float64},GPModel,PreviousPopulationThresholdRetraining,MeanVarEmulatedParticleSelection}, ::Float64, ::Int64) at /home/tah17/.julia/packages/GpABC/l9k0G/src/abc/smc.jl:292",
      " [9] (::getfield(GpABC, Symbol(\"#kw##iterateABCSMC!\")))(::NamedTuple{(:write_progress, :progress_every),Tuple{Bool,Int64}}, ::typeof(GpABC.iterateABCSMC!), ::GpABC.EmulatedABCSMCTracker{Uniform{Float64},GPModel,PreviousPopulationThresholdRetraining,MeanVarEmulatedParticleSelection}, ::Float64, ::Int64) at ./none:0",
      " [10] #ABCSMC#29(::Bool, ::Int64, ::Function, ::GpABC.EmulatedABCSMCInput{Uniform{Float64},PreviousPopulationThresholdRetraining,MeanVarEmulatedParticleSelection}) at /home/tah17/.julia/packages/GpABC/l9k0G/src/abc/smc.jl:362",
      " [11] #ABCSMC at ./none:0 [inlined]",
      " [12] #EmulatedABCSMC#71(::String, ::DefaultEmulatorTraining{SquaredExponentialArdKernel}, ::Function, ::Int64, ::Int64, ::PreviousPopulationThresholdRetraining, ::MeanVarEmulatedParticleSelection, ::Base.Iterators.Pairs{Symbol,Bool,Tuple{Symbol},NamedTuple{(:write_progress,),Tuple{Bool}}}, ::typeof(EmulatedABCSMC), ::Array{Float64,2}, ::typeof(simulator_function), ::Array{Uniform{Float64},1}, ::Array{Float64,1}, ::Int64, ::Int64) at /home/tah17/.julia/packages/GpABC/l9k0G/src/abc/emulation.jl:160",
      " [13] (::getfield(GpABC, Symbol(\"#kw##EmulatedABCSMC\")))(::NamedTuple{(:batch_size, :write_progress, :emulator_retraining, :emulated_particle_selection),Tuple{Int64,Bool,PreviousPopulationThresholdRetraining,MeanVarEmulatedParticleSelection}}, ::typeof(EmulatedABCSMC), ::Array{Float64,2}, ::Function, ::Array{Uniform{Float64},1}, ::Array{Float64,1}, ::Int64, ::Int64) at ./none:0",
      " [14] top-level scope at In[11]:1"
     ]
    }
   ],
   "source": [
    "emu_abcsmc_res = EmulatedABCSMC(reference_data,\n",
    "    simulator_function,\n",
    "    priors,\n",
    "    threshold_schedule,\n",
    "    n_particles,\n",
    "    n_design_points;\n",
    "    batch_size=500,\n",
    "    write_progress=false,\n",
    "    emulator_retraining = PreviousPopulationThresholdRetraining(n_design_points, 100, 10),\n",
    "    emulated_particle_selection = MeanVarEmulatedParticleSelection()\n",
    "    )\n",
    "\n",
    "plot(emu_abcsmc_res, population_colors=population_colors)"
   ]
  },
  {
   "cell_type": "markdown",
   "metadata": {},
   "source": [
    "## Summary plot of ABC-SMC emulation and simulation results.\n",
    "\n",
    "As in the paper. Subplots on the diagonal and below show marginal and joint posterior distributions of parameter estimates in the final ABC-SMC population (simulation in blue and emulation in red). Scatterplots above the diagonal show intermediate ABC-SMC populations with GP emulations; darker colour indicates decreasing threshold Black dashed lines indicate the true parameter values."
   ]
  },
  {
   "cell_type": "code",
   "execution_count": 12,
   "metadata": {},
   "outputs": [
    {
     "ename": "UndefVarError",
     "evalue": "UndefVarError: emu_abcsmc_res not defined",
     "output_type": "error",
     "traceback": [
      "UndefVarError: emu_abcsmc_res not defined",
      "",
      "Stacktrace:",
      " [1] top-level scope at In[12]:1"
     ]
    }
   ],
   "source": [
    "plot(emu_abcsmc_res, sim_abcsmc_res, true_params[param_indices])"
   ]
  },
  {
   "cell_type": "markdown",
   "metadata": {},
   "source": [
    "## Compare the posteriors"
   ]
  },
  {
   "cell_type": "code",
   "execution_count": 13,
   "metadata": {},
   "outputs": [
    {
     "ename": "UndefVarError",
     "evalue": "UndefVarError: emu_abcsmc_res not defined",
     "output_type": "error",
     "traceback": [
      "UndefVarError: emu_abcsmc_res not defined",
      "",
      "Stacktrace:",
      " [1] top-level scope at In[13]:2"
     ]
    }
   ],
   "source": [
    "sim_pop = sim_abcsmc_res.population[end]\n",
    "emu_pop = emu_abcsmc_res.population[end]\n",
    "for idx in 1:length(plts)\n",
    "    min_pop_len = min(size(emu_pop, 1), size(sim_pop, 1))\n",
    "    plts[idx] = histogram([emu_pop[1:min_pop_len,idx] sim_pop[1:min_pop_len,idx]], \n",
    "        label=[\"emulation\" \"simulation\"], fillalpha=0.5, xlabel=\"Parameter $idx\", ylabel=\"Density\")\n",
    "end\n",
    "\n",
    "plot(plts..., size=(900,300))"
   ]
  },
  {
   "cell_type": "markdown",
   "metadata": {},
   "source": [
    "Again, they are similar and both center on the correct parameter values.\n",
    "\n",
    "# Custom emulator training procedure\n",
    "\n",
    "The snippet below demonstrates subtyping of `AbstractEmulatorTraining` and usage of `gp_train` for custom emulator training. As mentioned in [`gp_train` reference](https://tanhevg.github.io/GpABC.jl/latest/ref-gp/), all hyperparameters are bounded between $e^{-10}$ and $e^{10}$ during GP training. Suppose this is not good enough for us, and we want control the noise variance $\\sigma_n$ more tightly, and let it vary only from 0.001 to 1. In total we need to optimise 5 hyperparameters: signal variance, noise variance, and three length scales (by the number of ODE parameters that we are estimating). $\\sigma_n$ is always the last hyperparameter, and the custom optimisation constraints and starting point for it can be specified as follows:"
   ]
  },
  {
   "cell_type": "code",
   "execution_count": null,
   "metadata": {},
   "outputs": [
    {
     "name": "stderr",
     "output_type": "stream",
     "text": [
      "┌ Info: Custom Emulator Training\n",
      "└ @ Main In[14]:4\n",
      "┌ Info: GpABC Emulator retraining. Iteration 1: 171 design points with distance below 2.0\n",
      "└ @ GpABC /home/tah17/.julia/packages/GpABC/l9k0G/src/util/emulation_helpers.jl:115\n"
     ]
    }
   ],
   "source": [
    "struct CustomEmulatorTraining <: AbstractEmulatorTraining end\n",
    "import GpABC.train_emulator\n",
    "function train_emulator(training_x::AbstractArray{T, 2}, y::AbstractArray{T, 2}, emulator_training::CustomEmulatorTraining) where {T<:Real}\n",
    "    @info \"Custom Emulator Training\"\n",
    "    # make sure the starting point is within bounds\n",
    "    optim_start = vcat(ones(4), 0.5)\n",
    "    lower_bound = vcat(exp(-10) .* ones(4), 0.001)\n",
    "    upper_bound = vcat(exp(10) .* ones(4), 1.0)\n",
    "    gpem = GPModel(training_x=training_x, training_y=y, \n",
    "        kernel=SquaredExponentialArdKernel(), \n",
    "        gp_hyperparameters=optim_start) \n",
    "    gp_train(gpem, hp_lower=lower_bound, hp_upper=upper_bound)\n",
    "    gpem\n",
    "end\n",
    "emu_abcsmc_res_custom = EmulatedABCSMC(reference_data,\n",
    "    simulator_function,\n",
    "    priors,\n",
    "    threshold_schedule,\n",
    "    n_particles,\n",
    "    n_design_points;\n",
    "    batch_size=500,\n",
    "    write_progress=false,\n",
    "    emulator_retraining = PreviousPopulationThresholdRetraining(n_design_points, 100, 10),\n",
    "    emulated_particle_selection = MeanVarEmulatedParticleSelection(),\n",
    "    # this instructs the ABC-SMC procedure to use the custom training implemented above\n",
    "    emulator_training=CustomEmulatorTraining() \n",
    "    )\n",
    "plot(emu_abcsmc_res_custom, sim_abcsmc_res, true_params[param_indices])"
   ]
  }
 ],
 "metadata": {
  "@webio": {
   "lastCommId": null,
   "lastKernelId": null
  },
  "kernelspec": {
   "display_name": "Julia 1.0.3",
   "language": "julia",
   "name": "julia-1.0"
  },
  "language_info": {
   "file_extension": ".jl",
   "mimetype": "application/julia",
   "name": "julia",
   "version": "1.0.3"
  }
 },
 "nbformat": 4,
 "nbformat_minor": 2
}
